{
 "cells": [
  {
   "cell_type": "code",
   "execution_count": null,
   "metadata": {},
   "outputs": [],
   "source": [
    "import re\n",
    "from requests import get\n",
    "from bs4 import BeautifulSoup\n",
    "import lxml\n",
    "import html5lib\n",
    "import pandas as pd\n",
    "import time\n",
    "import numpy as np"
   ]
  },
  {
   "cell_type": "code",
   "execution_count": null,
   "metadata": {},
   "outputs": [],
   "source": [
    "ua = 'Mozilla/5.0 (Windows NT 10.0; Win64; x64) AppleWebKit/537.36 (KHTML, like Gecko) Chrome/123.0.0.0 Safari/537.36'\n",
    "params ={\n",
    "    'q': '도시 문제',\n",
    "    'tbm': 'nws',\n",
    "    'start': '0'\n",
    "}\n",
    "resp = get('https://www.google.com/search', params=params, headers={'user-agent': ua})"
   ]
  },
  {
   "cell_type": "code",
   "execution_count": null,
   "metadata": {},
   "outputs": [],
   "source": [
    "dom = BeautifulSoup(resp.content, 'html.parser')\n",
    "for tag in dom.select('a.WlydOe'):\n",
    "    print(tag.attrs['href'])"
   ]
  },
  {
   "cell_type": "code",
   "execution_count": null,
   "metadata": {},
   "outputs": [],
   "source": [
    "def getUrls():\n",
    "    ua = 'Mozilla/5.0 (Windows NT 10.0; Win64; x64) AppleWebKit/537.36 (KHTML, like Gecko) Chrome/123.0.0.0 Safari/537.36'\n",
    "    depth = 0\n",
    "    \n",
    "    result = list()\n",
    "\n",
    "    while(depth < 51):\n",
    "        \n",
    "        params = {\n",
    "            'q': '도시 문제',\n",
    "            'tbm': 'nws',\n",
    "            'start': str(depth)\n",
    "        }   \n",
    "\n",
    "        resp = get('https://www.google.com/search', params=params, headers={'user-agent': ua})\n",
    "        dom = BeautifulSoup(resp.content, 'html.parser')\n",
    "        result.append([tag.attrs['href'] for tag in dom.select('a.WlydOe')])\n",
    "\n",
    "        depth += 10\n",
    "        time.sleep(10)  # prevent traffic attack\n",
    "    \n",
    "    return result"
   ]
  },
  {
   "cell_type": "code",
   "execution_count": null,
   "metadata": {},
   "outputs": [],
   "source": [
    "test = getUrls()"
   ]
  },
  {
   "cell_type": "code",
   "execution_count": null,
   "metadata": {},
   "outputs": [],
   "source": [
    "available = list()\n",
    "\n",
    "for doc in test:\n",
    "    for jor in doc:\n",
    "        try:\n",
    "            resp = get(jor, headers={'user-agent':ua})\n",
    "            available.append(resp)\n",
    "        except:\n",
    "            print(\"Failed\", jor)\n",
    "            pass\n",
    "        "
   ]
  },
  {
   "cell_type": "code",
   "execution_count": null,
   "metadata": {},
   "outputs": [],
   "source": [
    "for av in available:\n",
    "    dom = BeautifulSoup(av.text, 'html.parser')\n",
    "    print(list([tag.attrs['src'] for tag in dom.select('img')]))"
   ]
  },
  {
   "cell_type": "code",
   "execution_count": null,
   "metadata": {},
   "outputs": [],
   "source": [
    "text_result = list()\n",
    "\n",
    "for av in available:\n",
    "    dom = BeautifulSoup(av.text, 'html.parser')\n",
    "    text_result.append(re.sub(r'([\\n,\\t,\\r]+?)', '', dom.text))\n",
    "\n",
    "text_result"
   ]
  },
  {
   "cell_type": "code",
   "execution_count": null,
   "metadata": {},
   "outputs": [],
   "source": [
    "import pickle\n",
    "\n",
    "with open('result.txt', 'wb') as f:\n",
    "    pickle.dump(text_result, f)"
   ]
  },
  {
   "cell_type": "code",
   "execution_count": null,
   "metadata": {},
   "outputs": [],
   "source": [
    "# # image\n",
    "# params = {\n",
    "#     'q':'도시 문제'\n",
    "# }\n",
    "# resp = get('https://www.pinterest.co.kr/search/pins/', params=params)\n",
    "# node = BeautifulSoup(resp.text, 'html.parser')\n",
    "# node.select('iframe')"
   ]
  },
  {
   "cell_type": "code",
   "execution_count": null,
   "metadata": {},
   "outputs": [],
   "source": [
    "from konlpy.tag import Kkma"
   ]
  },
  {
   "cell_type": "code",
   "execution_count": null,
   "metadata": {},
   "outputs": [],
   "source": [
    "Kkma().morphs('아버지가방에들어가신다')"
   ]
  },
  {
   "cell_type": "code",
   "execution_count": null,
   "metadata": {},
   "outputs": [],
   "source": [
    "test_morphs = Kkma().morphs(text_result[0])\n",
    "# 1. morphs"
   ]
  },
  {
   "cell_type": "code",
   "execution_count": null,
   "metadata": {},
   "outputs": [],
   "source": [
    "with open('morphs_result.txt', 'wb') as f:\n",
    "    pickle.dump(test_morphs, f)\n",
    "# save"
   ]
  },
  {
   "cell_type": "code",
   "execution_count": null,
   "metadata": {},
   "outputs": [],
   "source": [
    "test_nouns = Kkma().nouns(text_result[0])\n",
    "# 2. nouns"
   ]
  },
  {
   "cell_type": "code",
   "execution_count": 21,
   "metadata": {},
   "outputs": [],
   "source": [
    "test_nouns = np.array(test_nouns)\n",
    "test_morphs = np.array(test_morphs)"
   ]
  },
  {
   "cell_type": "code",
   "execution_count": 24,
   "metadata": {},
   "outputs": [],
   "source": [
    "test_nouns = np.unique(test_nouns)\n",
    "test_morphs = np.unique(test_morphs)"
   ]
  },
  {
   "cell_type": "code",
   "execution_count": null,
   "metadata": {},
   "outputs": [],
   "source": [
    "with open('nouns_result.txt', 'wb') as f:\n",
    "    pickle.dump(test_nouns, f)\n",
    "# save"
   ]
  },
  {
   "cell_type": "code",
   "execution_count": 25,
   "metadata": {},
   "outputs": [],
   "source": [
    "with open('unique_nouns_morphs.txt', 'wb') as f:\n",
    "    pickle.dump((test_morphs, test_nouns), f)"
   ]
  }
 ],
 "metadata": {
  "kernelspec": {
   "display_name": "stan",
   "language": "python",
   "name": "python3"
  },
  "language_info": {
   "codemirror_mode": {
    "name": "ipython",
    "version": 3
   },
   "file_extension": ".py",
   "mimetype": "text/x-python",
   "name": "python",
   "nbconvert_exporter": "python",
   "pygments_lexer": "ipython3",
   "version": "3.9.12"
  }
 },
 "nbformat": 4,
 "nbformat_minor": 2
}
