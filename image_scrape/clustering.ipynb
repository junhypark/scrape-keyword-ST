{
 "cells": [
  {
   "cell_type": "code",
   "execution_count": 1,
   "metadata": {},
   "outputs": [
    {
     "name": "stdout",
     "output_type": "stream",
     "text": [
      "Collecting ko-sentence-transformers\n",
      "  Downloading ko_sentence_transformers-0.3.tar.gz (11 kB)\n",
      "Collecting sentence-transformers\n",
      "  Downloading sentence_transformers-2.7.0-py3-none-any.whl (171 kB)\n",
      "Requirement already satisfied: numpy in c:\\users\\samsung\\anaconda3\\lib\\site-packages (from sentence-transformers->ko-sentence-transformers) (1.22.4)\n",
      "Requirement already satisfied: tqdm in c:\\users\\samsung\\anaconda3\\lib\\site-packages (from sentence-transformers->ko-sentence-transformers) (4.64.0)\n",
      "Collecting huggingface-hub>=0.15.1\n",
      "  Downloading huggingface_hub-0.23.0-py3-none-any.whl (401 kB)\n",
      "Requirement already satisfied: scipy in c:\\users\\samsung\\anaconda3\\lib\\site-packages (from sentence-transformers->ko-sentence-transformers) (1.7.3)\n",
      "Collecting transformers<5.0.0,>=4.34.0\n",
      "  Downloading transformers-4.40.2-py3-none-any.whl (9.0 MB)\n",
      "Requirement already satisfied: scikit-learn in c:\\users\\samsung\\anaconda3\\lib\\site-packages (from sentence-transformers->ko-sentence-transformers) (1.0.2)\n",
      "Requirement already satisfied: Pillow in c:\\users\\samsung\\anaconda3\\lib\\site-packages (from sentence-transformers->ko-sentence-transformers) (9.0.1)\n",
      "Requirement already satisfied: torch>=1.11.0 in c:\\users\\samsung\\anaconda3\\lib\\site-packages (from sentence-transformers->ko-sentence-transformers) (1.13.1)\n",
      "Requirement already satisfied: pyyaml>=5.1 in c:\\users\\samsung\\anaconda3\\lib\\site-packages (from huggingface-hub>=0.15.1->sentence-transformers->ko-sentence-transformers) (6.0)\n",
      "Requirement already satisfied: requests in c:\\users\\samsung\\anaconda3\\lib\\site-packages (from huggingface-hub>=0.15.1->sentence-transformers->ko-sentence-transformers) (2.27.1)\n",
      "Requirement already satisfied: typing-extensions>=3.7.4.3 in c:\\users\\samsung\\anaconda3\\lib\\site-packages (from huggingface-hub>=0.15.1->sentence-transformers->ko-sentence-transformers) (4.1.1)\n",
      "Collecting fsspec>=2023.5.0\n",
      "  Downloading fsspec-2024.3.1-py3-none-any.whl (171 kB)\n",
      "Requirement already satisfied: packaging>=20.9 in c:\\users\\samsung\\anaconda3\\lib\\site-packages (from huggingface-hub>=0.15.1->sentence-transformers->ko-sentence-transformers) (21.3)\n",
      "Requirement already satisfied: filelock in c:\\users\\samsung\\anaconda3\\lib\\site-packages (from huggingface-hub>=0.15.1->sentence-transformers->ko-sentence-transformers) (3.6.0)\n",
      "Requirement already satisfied: pyparsing!=3.0.5,>=2.0.2 in c:\\users\\samsung\\anaconda3\\lib\\site-packages (from packaging>=20.9->huggingface-hub>=0.15.1->sentence-transformers->ko-sentence-transformers) (3.0.4)\n",
      "Requirement already satisfied: colorama in c:\\users\\samsung\\anaconda3\\lib\\site-packages (from tqdm->sentence-transformers->ko-sentence-transformers) (0.4.4)\n",
      "Collecting tokenizers<0.20,>=0.19\n",
      "  Downloading tokenizers-0.19.1-cp39-none-win_amd64.whl (2.2 MB)\n",
      "Collecting safetensors>=0.4.1\n",
      "  Downloading safetensors-0.4.3-cp39-none-win_amd64.whl (287 kB)\n",
      "Requirement already satisfied: regex!=2019.12.17 in c:\\users\\samsung\\anaconda3\\lib\\site-packages (from transformers<5.0.0,>=4.34.0->sentence-transformers->ko-sentence-transformers) (2022.3.15)\n",
      "Requirement already satisfied: charset-normalizer~=2.0.0 in c:\\users\\samsung\\anaconda3\\lib\\site-packages (from requests->huggingface-hub>=0.15.1->sentence-transformers->ko-sentence-transformers) (2.0.4)\n",
      "Requirement already satisfied: idna<4,>=2.5 in c:\\users\\samsung\\anaconda3\\lib\\site-packages (from requests->huggingface-hub>=0.15.1->sentence-transformers->ko-sentence-transformers) (2.10)\n",
      "Requirement already satisfied: urllib3<1.27,>=1.21.1 in c:\\users\\samsung\\anaconda3\\lib\\site-packages (from requests->huggingface-hub>=0.15.1->sentence-transformers->ko-sentence-transformers) (1.26.9)\n",
      "Requirement already satisfied: certifi>=2017.4.17 in c:\\users\\samsung\\anaconda3\\lib\\site-packages (from requests->huggingface-hub>=0.15.1->sentence-transformers->ko-sentence-transformers) (2021.10.8)\n",
      "Requirement already satisfied: joblib>=0.11 in c:\\users\\samsung\\anaconda3\\lib\\site-packages (from scikit-learn->sentence-transformers->ko-sentence-transformers) (1.1.0)\n",
      "Requirement already satisfied: threadpoolctl>=2.0.0 in c:\\users\\samsung\\anaconda3\\lib\\site-packages (from scikit-learn->sentence-transformers->ko-sentence-transformers) (2.2.0)\n",
      "Building wheels for collected packages: ko-sentence-transformers\n",
      "  Building wheel for ko-sentence-transformers (setup.py): started\n",
      "  Building wheel for ko-sentence-transformers (setup.py): finished with status 'done'\n",
      "  Created wheel for ko-sentence-transformers: filename=ko_sentence_transformers-0.3-py3-none-any.whl size=9680 sha256=5a034ecbbf0b95c3e0406c2f9c180181964b46851130bf1510d60ea936324e4f\n",
      "  Stored in directory: c:\\users\\samsung\\appdata\\local\\pip\\cache\\wheels\\8f\\46\\7f\\b938df186091c9ddc53e01afbfe7a889aa21159d811ebfd377\n",
      "Successfully built ko-sentence-transformers\n",
      "Installing collected packages: fsspec, huggingface-hub, tokenizers, safetensors, transformers, sentence-transformers, ko-sentence-transformers\n",
      "  Attempting uninstall: fsspec\n",
      "    Found existing installation: fsspec 2022.2.0\n",
      "    Uninstalling fsspec-2022.2.0:\n",
      "      Successfully uninstalled fsspec-2022.2.0\n",
      "Successfully installed fsspec-2024.3.1 huggingface-hub-0.23.0 ko-sentence-transformers-0.3 safetensors-0.4.3 sentence-transformers-2.7.0 tokenizers-0.19.1 transformers-4.40.2\n"
     ]
    }
   ],
   "source": [
    "! pip install ko-sentence-transformers\n",
    "# BERT - SBERT (senetence)"
   ]
  },
  {
   "cell_type": "code",
   "execution_count": 1,
   "metadata": {},
   "outputs": [
    {
     "name": "stderr",
     "output_type": "stream",
     "text": [
      "c:\\Users\\SAMSUNG\\anaconda3\\lib\\site-packages\\huggingface_hub\\file_download.py:1132: FutureWarning: `resume_download` is deprecated and will be removed in version 1.0.0. Downloads always resume when possible. If you want to force a new download, use `force_download=True`.\n",
      "  warnings.warn(\n"
     ]
    },
    {
     "name": "stdout",
     "output_type": "stream",
     "text": [
      "\n",
      "\n",
      "======================\n",
      "\n",
      "\n",
      "Query: 한 남자가 파스타를 먹는다.\n",
      "\n",
      "Top 5 most similar sentences in corpus:\n",
      "한 남자가 음식을 먹는다. (Score: 0.6154)\n",
      "한 남자가 빵 한 조각을 먹는다. (Score: 0.5451)\n",
      "한 여자가 바이올린을 연주한다. (Score: 0.0980)\n",
      "한 남자가 말을 탄다. (Score: 0.0686)\n",
      "한 남자가 담으로 싸인 땅에서 백마를 타고 있다. (Score: 0.0572)\n",
      "\n",
      "\n",
      "======================\n",
      "\n",
      "\n",
      "Query: 고릴라 의상을 입은 누군가가 드럼을 연주하고 있다.\n",
      "\n",
      "Top 5 most similar sentences in corpus:\n",
      "원숭이 한 마리가 드럼을 연주한다. (Score: 0.7253)\n",
      "치타 한 마리가 먹이 뒤에서 달리고 있다. (Score: 0.1940)\n",
      "한 여자가 바이올린을 연주한다. (Score: 0.1483)\n",
      "한 남자가 담으로 싸인 땅에서 백마를 타고 있다. (Score: 0.0471)\n",
      "한 남자가 음식을 먹는다. (Score: 0.0082)\n",
      "\n",
      "\n",
      "======================\n",
      "\n",
      "\n",
      "Query: 치타가 들판을 가로 질러 먹이를 쫓는다.\n",
      "\n",
      "Top 5 most similar sentences in corpus:\n",
      "치타 한 마리가 먹이 뒤에서 달리고 있다. (Score: 0.7887)\n",
      "원숭이 한 마리가 드럼을 연주한다. (Score: 0.3887)\n",
      "두 남자가 수레를 숲 속으로 밀었다. (Score: 0.1610)\n",
      "한 남자가 음식을 먹는다. (Score: 0.0739)\n",
      "그 여자가 아이를 돌본다. (Score: 0.0568)\n"
     ]
    }
   ],
   "source": [
    "from sentence_transformers import SentenceTransformer, util\n",
    "import numpy as np\n",
    "import re\n",
    "\n",
    "embedder = SentenceTransformer(\"jhgan/ko-sbert-sts\")\n",
    "# korean-sbert를 불러옵니다.\n",
    "\n",
    "# Corpus with example sentences\n",
    "corpus = ['한 남자가 음식을 먹는다.',\n",
    " '한 남자가 빵 한 조각을 먹는다.',\n",
    " '그 여자가 아이를 돌본다.',\n",
    " '한 남자가 말을 탄다.',\n",
    " '한 여자가 바이올린을 연주한다.',\n",
    " '두 남자가 수레를 숲 속으로 밀었다.',\n",
    " '한 남자가 담으로 싸인 땅에서 백마를 타고 있다.',\n",
    " '원숭이 한 마리가 드럼을 연주한다.',\n",
    " '치타 한 마리가 먹이 뒤에서 달리고 있다.']\n",
    "# 한국어로 fine tuning된 sbert 모델로, 긴 문장 혹은 단어 모두 clustering이 가능합니다.\n",
    "\n",
    "corpus_embeddings = embedder.encode(corpus, convert_to_tensor=True)\n",
    "\n",
    "# Query sentences:\n",
    "queries = ['한 남자가 파스타를 먹는다.',\n",
    "  '고릴라 의상을 입은 누군가가 드럼을 연주하고 있다.',\n",
    "  '치타가 들판을 가로 질러 먹이를 쫓는다.']\n",
    "# 해당 세 문장이 구분할 문장입니다.\n",
    "\n",
    "# Find the closest 5 sentences of the corpus for each query sentence based on cosine similarity\n",
    "top_k = 5\n",
    "for query in queries:\n",
    "    query_embedding = embedder.encode(query, convert_to_tensor=True)\n",
    "    cos_scores = util.pytorch_cos_sim(query_embedding, corpus_embeddings)[0]\n",
    "    cos_scores = cos_scores.cpu()\n",
    "\n",
    "    #We use np.argpartition, to only partially sort the top_k results\n",
    "    top_results = np.argpartition(-cos_scores, range(top_k))[0:top_k]\n",
    "\n",
    "    print(\"\\n\\n======================\\n\\n\")\n",
    "    print(\"Query:\", query)\n",
    "    print(\"\\nTop 5 most similar sentences in corpus:\")\n",
    "\n",
    "    for idx in top_results[0:top_k]:\n",
    "        print(corpus[idx].strip(), \"(Score: %.4f)\" % (cos_scores[idx]))\n",
    "\n",
    "# cossin similarity로 score를 측정하여 가장 큰 값들을 보여줍니다. 여기서는 가장 큰 값 5개를 보여주며 각 queries의 문장들을 기준으로 corpus의 어떤 문장들이 가장 유사한지를 보여줍니다."
   ]
  },
  {
   "cell_type": "code",
   "execution_count": null,
   "metadata": {},
   "outputs": [],
   "source": [
    "# 즉, 해당 문장과 단어 사이의 vecotr 값을 구분짓는 것이 아니라\n",
    "# 각 문장과 단어의 의미를 기준으로 구분하며\n",
    "# 이를 clustering으로 사용 가능할 것으로 보입니다.\n",
    "# 본래는 sts로 문장의 sentiment를 기준으로 유사한 문장들을 보여주는 역할입니다.\n",
    "# 하지만, 이 프로젝트에서는 해당 ko-sentence-transformer를 clustering에서도 사용할 수 있을거라 기대됩니다."
   ]
  }
 ],
 "metadata": {
  "kernelspec": {
   "display_name": "base",
   "language": "python",
   "name": "python3"
  },
  "language_info": {
   "codemirror_mode": {
    "name": "ipython",
    "version": 3
   },
   "file_extension": ".py",
   "mimetype": "text/x-python",
   "name": "python",
   "nbconvert_exporter": "python",
   "pygments_lexer": "ipython3",
   "version": "3.9.12"
  }
 },
 "nbformat": 4,
 "nbformat_minor": 2
}
