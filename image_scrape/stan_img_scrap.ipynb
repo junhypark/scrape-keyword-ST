{
 "cells": [
  {
   "cell_type": "code",
   "execution_count": null,
   "metadata": {},
   "outputs": [],
   "source": [
    "from selenium import webdriver\n",
    "from selenium.webdriver.common.keys import Keys\n",
    "from selenium.webdriver.common.by import By\n",
    "import time\n",
    "import urllib.request\n",
    "import os"
   ]
  },
  {
   "cell_type": "code",
   "execution_count": null,
   "metadata": {},
   "outputs": [],
   "source": [
    "# 검색쿼리\n",
    "searchKey = input('검색할 키워드 입력 :')\n",
    "cnt_num = input('받을 페이지 개수: ')\n",
    "# 폴더 생성\n",
    "def createFolder(dir):\n",
    "    try:\n",
    "        if not os.path.exists(dir):\n",
    "            os.makedirs(dir)\n",
    "    except OSError:\n",
    "        print('Error')\n",
    "\n",
    "createFolder(f'train_dataset/{searchKey}')"
   ]
  },
  {
   "cell_type": "code",
   "execution_count": 45,
   "metadata": {},
   "outputs": [],
   "source": [
    "driver = webdriver.Chrome()\n",
    "driver.get('https://www.google.co.kr/imghp')\n",
    "\n",
    "# 쿼리 검색 및 검색 버튼 클릭\n",
    "elem = driver.find_element('name', 'q')\n",
    "elem.send_keys(searchKey)\n",
    "elem.send_keys(Keys.RETURN)"
   ]
  },
  {
   "cell_type": "code",
   "execution_count": null,
   "metadata": {},
   "outputs": [],
   "source": [
    "all_images = list()"
   ]
  },
  {
   "cell_type": "code",
   "execution_count": 42,
   "metadata": {},
   "outputs": [
    {
     "name": "stdout",
     "output_type": "stream",
     "text": [
      "Stop!\n"
     ]
    }
   ],
   "source": [
    "# 이미지 더 보기\n",
    "i = 0\n",
    "while i/10 <= pg_num:\n",
    "    \n",
    "    driver.get('https://www.google.co.kr/search?q=Economy&sca_esv=f874127852d0764a&sca_upv=1&biw=929&bih=917&udm=2&ei=2QxTZorlCb-Mvr0P7IOP6AQ&start='+str(i)+'&sa=N')\n",
    "    images = driver.find_elements(By.XPATH, \n",
    "        '/html/body/div[4]/div/div[13]/div/div[2]/div[2]/div/div/div/div/div[1]/div/div/div['+str(count)+']/div[2]/h3/a')"
   ]
  },
  {
   "cell_type": "code",
   "execution_count": null,
   "metadata": {},
   "outputs": [],
   "source": [
    "count = 1"
   ]
  },
  {
   "cell_type": "code",
   "execution_count": null,
   "metadata": {},
   "outputs": [],
   "source": [
    "# 이미지 수집 및 저장\n",
    "images = driver.find_elements(By.XPATH, \n",
    "'/html/body/div[4]/div/div[13]/div/div[2]/div[2]/div/div/div/div/div[1]/div/div/div['+str(count)+']/div[2]/h3/a') # 각 이미지들의 class"
   ]
  },
  {
   "cell_type": "code",
   "execution_count": null,
   "metadata": {},
   "outputs": [],
   "source": [
    "for i in images:\n",
    "    print(i.get_attribute('href'))"
   ]
  },
  {
   "cell_type": "code",
   "execution_count": null,
   "metadata": {},
   "outputs": [],
   "source": [
    "count += 1"
   ]
  },
  {
   "cell_type": "code",
   "execution_count": null,
   "metadata": {},
   "outputs": [],
   "source": [
    "images[0].click()"
   ]
  },
  {
   "cell_type": "code",
   "execution_count": null,
   "metadata": {},
   "outputs": [],
   "source": [
    "imgUrl = driver.find_element(By.XPATH,\n",
    "        '/html/body/div[6]/div/div/div/div/div/div/c-wiz/div/div[2]/div[2]/div[2]/div[2]/c-wiz/div/div/div/div/div[3]/div[1]/a/img[1]').get_attribute(\"src\")"
   ]
  },
  {
   "cell_type": "code",
   "execution_count": null,
   "metadata": {},
   "outputs": [],
   "source": [
    "imgUrl = imgUrl.replace('https', 'http') # https로 요청할 경우 보안 문제로 SSL에러가 남\n",
    "opener = urllib.request.build_opener()\n",
    "opener.addheaders = [('User-Agent', 'Mozilla/5.0')] # https://docs.python.org/3/library/urllib.request.html 참고\n",
    "urllib.request.install_opener(opener)\n",
    "urllib.request.urlretrieve(imgUrl, f'train_dataset/{searchKey}/{searchKey}_{str(count)}.jpg') # url을 \n",
    "count = count + 1\n",
    "print(f'--{count}번째 이미지 저장 완료--')"
   ]
  },
  {
   "cell_type": "code",
   "execution_count": null,
   "metadata": {},
   "outputs": [],
   "source": [
    "images[6].click()"
   ]
  },
  {
   "cell_type": "code",
   "execution_count": null,
   "metadata": {},
   "outputs": [],
   "source": []
  },
  {
   "cell_type": "code",
   "execution_count": null,
   "metadata": {},
   "outputs": [],
   "source": [
    "# for image in images:\n",
    "try:\n",
    "    images[0].click()\n",
    "    time.sleep(1)\n",
    "    imgUrl = driver.find_element(By.CLASS_NAME,\n",
    "        'sFlh5c pT0Scc iPVvYb').get_attribute(\"src\")\n",
    "    imgUrl = imgUrl.replace('https', 'http') # https로 요청할 경우 보안 문제로 SSL에러가 남\n",
    "    opener = urllib.request.build_opener()\n",
    "    opener.addheaders = [('User-Agent', 'Mozilla/5.0')] # https://docs.python.org/3/library/urllib.request.html 참고\n",
    "    urllib.request.install_opener(opener)\n",
    "    urllib.request.urlretrieve(imgUrl, f'train_dataset/{searchKey}/{searchKey}_{str(count)}.jpg') # url을 \n",
    "    count = count + 1\n",
    "    print(f'--{count}번째 이미지 저장 완료--')\n",
    "except Exception as e:\n",
    "    print('Error : ', e)\n",
    "    pass"
   ]
  },
  {
   "cell_type": "code",
   "execution_count": 17,
   "metadata": {},
   "outputs": [
    {
     "ename": "WebDriverException",
     "evalue": "Message: disconnected: not connected to DevTools\n  (failed to check if window was closed: disconnected: not connected to DevTools)\n  (Session info: chrome=125.0.6422.76)\nStacktrace:\n\tGetHandleVerifier [0x00007FF7129C1F22+60322]\n\t(No symbol) [0x00007FF71293CE99]\n\t(No symbol) [0x00007FF7127F7EBA]\n\t(No symbol) [0x00007FF7127DE03F]\n\t(No symbol) [0x00007FF7127DEBAF]\n\t(No symbol) [0x00007FF7127F84E3]\n\t(No symbol) [0x00007FF7127CD08C]\n\t(No symbol) [0x00007FF71287B697]\n\t(No symbol) [0x00007FF71287B099]\n\t(No symbol) [0x00007FF71286C1E0]\n\t(No symbol) [0x00007FF712839617]\n\t(No symbol) [0x00007FF71283A211]\n\tGetHandleVerifier [0x00007FF712CD946D+3301613]\n\tGetHandleVerifier [0x00007FF712D23693+3605267]\n\tGetHandleVerifier [0x00007FF712D19410+3563664]\n\tGetHandleVerifier [0x00007FF712A742F6+790390]\n\t(No symbol) [0x00007FF7129474DF]\n\t(No symbol) [0x00007FF7129433D4]\n\t(No symbol) [0x00007FF712943562]\n\t(No symbol) [0x00007FF712932F6F]\n\tBaseThreadInitThunk [0x00007FF90DBB257D+29]\n\tRtlUserThreadStart [0x00007FF90F10AA48+40]\n",
     "output_type": "error",
     "traceback": [
      "\u001b[1;31m---------------------------------------------------------------------------\u001b[0m",
      "\u001b[1;31mWebDriverException\u001b[0m                        Traceback (most recent call last)",
      "Input \u001b[1;32mIn [17]\u001b[0m, in \u001b[0;36m<cell line: 1>\u001b[1;34m()\u001b[0m\n\u001b[1;32m----> 1\u001b[0m \u001b[43mdriver\u001b[49m\u001b[38;5;241;43m.\u001b[39;49m\u001b[43mclose\u001b[49m\u001b[43m(\u001b[49m\u001b[43m)\u001b[49m\n",
      "File \u001b[1;32mc:\\Users\\purpl\\anaconda3\\lib\\site-packages\\selenium\\webdriver\\remote\\webdriver.py:456\u001b[0m, in \u001b[0;36mWebDriver.close\u001b[1;34m(self)\u001b[0m\n\u001b[0;32m    448\u001b[0m \u001b[38;5;28;01mdef\u001b[39;00m \u001b[38;5;21mclose\u001b[39m(\u001b[38;5;28mself\u001b[39m) \u001b[38;5;241m-\u001b[39m\u001b[38;5;241m>\u001b[39m \u001b[38;5;28;01mNone\u001b[39;00m:\n\u001b[0;32m    449\u001b[0m     \u001b[38;5;124;03m\"\"\"Closes the current window.\u001b[39;00m\n\u001b[0;32m    450\u001b[0m \n\u001b[0;32m    451\u001b[0m \u001b[38;5;124;03m    :Usage:\u001b[39;00m\n\u001b[1;32m   (...)\u001b[0m\n\u001b[0;32m    454\u001b[0m \u001b[38;5;124;03m            driver.close()\u001b[39;00m\n\u001b[0;32m    455\u001b[0m \u001b[38;5;124;03m    \"\"\"\u001b[39;00m\n\u001b[1;32m--> 456\u001b[0m     \u001b[38;5;28;43mself\u001b[39;49m\u001b[38;5;241;43m.\u001b[39;49m\u001b[43mexecute\u001b[49m\u001b[43m(\u001b[49m\u001b[43mCommand\u001b[49m\u001b[38;5;241;43m.\u001b[39;49m\u001b[43mCLOSE\u001b[49m\u001b[43m)\u001b[49m\n",
      "File \u001b[1;32mc:\\Users\\purpl\\anaconda3\\lib\\site-packages\\selenium\\webdriver\\remote\\webdriver.py:345\u001b[0m, in \u001b[0;36mWebDriver.execute\u001b[1;34m(self, driver_command, params)\u001b[0m\n\u001b[0;32m    343\u001b[0m response \u001b[38;5;241m=\u001b[39m \u001b[38;5;28mself\u001b[39m\u001b[38;5;241m.\u001b[39mcommand_executor\u001b[38;5;241m.\u001b[39mexecute(driver_command, params)\n\u001b[0;32m    344\u001b[0m \u001b[38;5;28;01mif\u001b[39;00m response:\n\u001b[1;32m--> 345\u001b[0m     \u001b[38;5;28;43mself\u001b[39;49m\u001b[38;5;241;43m.\u001b[39;49m\u001b[43merror_handler\u001b[49m\u001b[38;5;241;43m.\u001b[39;49m\u001b[43mcheck_response\u001b[49m\u001b[43m(\u001b[49m\u001b[43mresponse\u001b[49m\u001b[43m)\u001b[49m\n\u001b[0;32m    346\u001b[0m     response[\u001b[38;5;124m\"\u001b[39m\u001b[38;5;124mvalue\u001b[39m\u001b[38;5;124m\"\u001b[39m] \u001b[38;5;241m=\u001b[39m \u001b[38;5;28mself\u001b[39m\u001b[38;5;241m.\u001b[39m_unwrap_value(response\u001b[38;5;241m.\u001b[39mget(\u001b[38;5;124m\"\u001b[39m\u001b[38;5;124mvalue\u001b[39m\u001b[38;5;124m\"\u001b[39m, \u001b[38;5;28;01mNone\u001b[39;00m))\n\u001b[0;32m    347\u001b[0m     \u001b[38;5;28;01mreturn\u001b[39;00m response\n",
      "File \u001b[1;32mc:\\Users\\purpl\\anaconda3\\lib\\site-packages\\selenium\\webdriver\\remote\\errorhandler.py:229\u001b[0m, in \u001b[0;36mErrorHandler.check_response\u001b[1;34m(self, response)\u001b[0m\n\u001b[0;32m    227\u001b[0m         alert_text \u001b[38;5;241m=\u001b[39m value[\u001b[38;5;124m\"\u001b[39m\u001b[38;5;124malert\u001b[39m\u001b[38;5;124m\"\u001b[39m]\u001b[38;5;241m.\u001b[39mget(\u001b[38;5;124m\"\u001b[39m\u001b[38;5;124mtext\u001b[39m\u001b[38;5;124m\"\u001b[39m)\n\u001b[0;32m    228\u001b[0m     \u001b[38;5;28;01mraise\u001b[39;00m exception_class(message, screen, stacktrace, alert_text)  \u001b[38;5;66;03m# type: ignore[call-arg]  # mypy is not smart enough here\u001b[39;00m\n\u001b[1;32m--> 229\u001b[0m \u001b[38;5;28;01mraise\u001b[39;00m exception_class(message, screen, stacktrace)\n",
      "\u001b[1;31mWebDriverException\u001b[0m: Message: disconnected: not connected to DevTools\n  (failed to check if window was closed: disconnected: not connected to DevTools)\n  (Session info: chrome=125.0.6422.76)\nStacktrace:\n\tGetHandleVerifier [0x00007FF7129C1F22+60322]\n\t(No symbol) [0x00007FF71293CE99]\n\t(No symbol) [0x00007FF7127F7EBA]\n\t(No symbol) [0x00007FF7127DE03F]\n\t(No symbol) [0x00007FF7127DEBAF]\n\t(No symbol) [0x00007FF7127F84E3]\n\t(No symbol) [0x00007FF7127CD08C]\n\t(No symbol) [0x00007FF71287B697]\n\t(No symbol) [0x00007FF71287B099]\n\t(No symbol) [0x00007FF71286C1E0]\n\t(No symbol) [0x00007FF712839617]\n\t(No symbol) [0x00007FF71283A211]\n\tGetHandleVerifier [0x00007FF712CD946D+3301613]\n\tGetHandleVerifier [0x00007FF712D23693+3605267]\n\tGetHandleVerifier [0x00007FF712D19410+3563664]\n\tGetHandleVerifier [0x00007FF712A742F6+790390]\n\t(No symbol) [0x00007FF7129474DF]\n\t(No symbol) [0x00007FF7129433D4]\n\t(No symbol) [0x00007FF712943562]\n\t(No symbol) [0x00007FF712932F6F]\n\tBaseThreadInitThunk [0x00007FF90DBB257D+29]\n\tRtlUserThreadStart [0x00007FF90F10AA48+40]\n"
     ]
    }
   ],
   "source": [
    "driver.close()"
   ]
  }
 ],
 "metadata": {
  "kernelspec": {
   "display_name": "KoreaUniv",
   "language": "python",
   "name": "python3"
  },
  "language_info": {
   "codemirror_mode": {
    "name": "ipython",
    "version": 3
   },
   "file_extension": ".py",
   "mimetype": "text/x-python",
   "name": "python",
   "nbconvert_exporter": "python",
   "pygments_lexer": "ipython3",
   "version": "3.9.12"
  }
 },
 "nbformat": 4,
 "nbformat_minor": 2
}
